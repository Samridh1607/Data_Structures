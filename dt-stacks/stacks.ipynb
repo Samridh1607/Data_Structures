{
 "cells": [
  {
   "cell_type": "markdown",
   "id": "c06f70c2",
   "metadata": {},
   "source": [
    "# A stack is a LIFO structure - last in, first out. It is an abstract data type.\n",
    "\n",
    "I am using an array (a Python list) to implement a stack.\n",
    "\n",
    "We can also use linked lists to implement stacks.\n",
    "\n",
    "Examples\n",
    "\n",
    "1) Stacks are used in browsers for 'back button' navigation.\n",
    "2) Undo and Redo operations are stacks in action.\n",
    "3) Stacks are used in RAM (Stack memory for storing function calls and local variables)."
   ]
  },
  {
   "cell_type": "code",
   "execution_count": 1,
   "id": "4f6dedbb",
   "metadata": {},
   "outputs": [],
   "source": [
    "class Stack:\n",
    "\n",
    "    def __init__(self):\n",
    "        self.stack = []\n",
    "\n",
    "\n",
    "    # Insert operation // O(1)\n",
    "\n",
    "    def push(self, \n",
    "             data):\n",
    "        self.stack.append(data)\n",
    "\n",
    "    # Remove and return the last item we have inserted // O(1)\n",
    "\n",
    "    def pop(self):\n",
    "        data = self.stack[-1]\n",
    "        del self.stack[-1]\n",
    "        return data\n",
    "    \n",
    "    # View the last item on the stack without removing it // O(1)\n",
    "    def peek(self):\n",
    "        return self.stack[-1]\n",
    "    \n",
    "    # Check if the stack is empty // O(1)\n",
    "\n",
    "    def is_empty(self):\n",
    "        return self.stack == []\n",
    "    \n",
    "    # Check the strack size\n",
    "    \n",
    "    def stack_size(self):\n",
    "        return len(self.stack)"
   ]
  },
  {
   "cell_type": "code",
   "execution_count": 2,
   "id": "f2cfd149",
   "metadata": {},
   "outputs": [
    {
     "name": "stdout",
     "output_type": "stream",
     "text": [
      "100\n",
      "False\n",
      "3\n",
      "5\n",
      "2\n"
     ]
    }
   ],
   "source": [
    "# Create an object of the Stack class\n",
    "stack = Stack()\n",
    "\n",
    "# Perform operations\n",
    "stack.push(1)\n",
    "stack.push(5)\n",
    "stack.push(100)\n",
    "\n",
    "print(stack.peek())\n",
    "print(stack.is_empty())\n",
    "print(stack.stack_size())\n",
    "\n",
    "stack.pop()\n",
    "\n",
    "print(stack.peek())\n",
    "print(stack.stack_size())"
   ]
  }
 ],
 "metadata": {
  "kernelspec": {
   "display_name": "Python 3",
   "language": "python",
   "name": "python3"
  },
  "language_info": {
   "codemirror_mode": {
    "name": "ipython",
    "version": 3
   },
   "file_extension": ".py",
   "mimetype": "text/x-python",
   "name": "python",
   "nbconvert_exporter": "python",
   "pygments_lexer": "ipython3",
   "version": "3.11.9"
  }
 },
 "nbformat": 4,
 "nbformat_minor": 5
}

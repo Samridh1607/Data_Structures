{
 "cells": [
  {
   "cell_type": "markdown",
   "id": "a763fb15",
   "metadata": {},
   "source": [
    "Linear search algorithm is used for searching an element in an unsorted list. The explanation is simple, we iterate over the search space and compare each element with the target element. If the element is present, the algorithm returns its' index otherwise -1.\n",
    "\n",
    "Time complexity:\n",
    "\n",
    "Best case:     O(1)     # The target element is at the 1st index.\n",
    "Worst case:    O(n)     # The element is absent or on the last index.\n",
    "Avg case:      O(n)     # Anywhere except the start and the end\n",
    "\n",
    "Comments:\n",
    "1) Linear search can be used for an unsorted array.\n",
    "2) Linear search should be used for small arrays.\n",
    "3) It should be used in cases where simplicity is prefered over performance."
   ]
  },
  {
   "cell_type": "code",
   "execution_count": 1,
   "id": "93f4f8f7",
   "metadata": {},
   "outputs": [],
   "source": [
    "def linear_search(list,\n",
    "                  target):\n",
    "    # Iterate over the list elements and compare them with the target\n",
    "    for i in range(0, len(list)):\n",
    "        if list[i] == target:\n",
    "            return i\n",
    "    # return -1 if the target is absent\n",
    "    return -1"
   ]
  },
  {
   "cell_type": "code",
   "execution_count": 2,
   "id": "ff0331bb",
   "metadata": {},
   "outputs": [
    {
     "name": "stdout",
     "output_type": "stream",
     "text": [
      "4\n"
     ]
    }
   ],
   "source": [
    "print(linear_search([1,3,5,4,7,100,199,34], 7))"
   ]
  }
 ],
 "metadata": {
  "kernelspec": {
   "display_name": "Python 3",
   "language": "python",
   "name": "python3"
  },
  "language_info": {
   "codemirror_mode": {
    "name": "ipython",
    "version": 3
   },
   "file_extension": ".py",
   "mimetype": "text/x-python",
   "name": "python",
   "nbconvert_exporter": "python",
   "pygments_lexer": "ipython3",
   "version": "3.11.9"
  }
 },
 "nbformat": 4,
 "nbformat_minor": 5
}

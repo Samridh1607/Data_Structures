{
 "cells": [
  {
   "cell_type": "markdown",
   "id": "e8b9c6d5",
   "metadata": {},
   "source": [
    "Binary seacrh algorithm is used for searching an element in a sorted array(list). The algorithm searches for a target element by dividing a sorted list into two halves. We determine the middle element and check if it is equal to the target element and return the index of the same. The algorithm keeps on dividing the array till it finds the target element. In case, the target element is absent, the algorithm returns -1.\n",
    "\n",
    "Time complexity:\n",
    "\n",
    "Best case:      O(1)          # The target element is the middle element(iteration number 1)\n",
    "Worst case:     O(log n)      # Algorithm keeps on dividing the array till the searching space is reduced to a single element. Max log2 N times division\n",
    "Avg case:       O(log n)\n",
    "\n",
    "Advantages:\n",
    "1) Much faster than linear search for large datasets\n",
    "2) Worst case time complexity is O(log n)\n",
    "\n",
    "Dis-advantages:\n",
    "1) Applicable for sorted lists\n",
    "2) Not suitable for linked lists\n",
    "\n"
   ]
  },
  {
   "cell_type": "code",
   "execution_count": 1,
   "id": "cfd5af61",
   "metadata": {},
   "outputs": [],
   "source": [
    "def binary_search(list, \n",
    "                  target):\n",
    "    \n",
    "    # define start index\n",
    "    start = 0\n",
    "    # define the last index\n",
    "    end = len(list) - 1\n",
    "\n",
    "    # Start searching the element \n",
    "    while start <= end:\n",
    "        # Define the middle element\n",
    "        mid = (start + end) // 2\n",
    "\n",
    "        if list[mid] == target: # Case I: If target is the middle element of the array(list)\n",
    "            return mid\n",
    "        elif list[mid] < target: # Case II: If the tatget is in the right half\n",
    "            start = mid + 1\n",
    "        else: # Case III: If the target is in the left half\n",
    "            end = mid - 1\n",
    "\n",
    "    return -1"
   ]
  },
  {
   "cell_type": "code",
   "execution_count": 2,
   "id": "85c47faf",
   "metadata": {},
   "outputs": [
    {
     "name": "stdout",
     "output_type": "stream",
     "text": [
      "3\n"
     ]
    }
   ],
   "source": [
    "print(binary_search([1,2,3,4,5,6,7,8], 4))"
   ]
  }
 ],
 "metadata": {
  "kernelspec": {
   "display_name": "Python 3",
   "language": "python",
   "name": "python3"
  },
  "language_info": {
   "codemirror_mode": {
    "name": "ipython",
    "version": 3
   },
   "file_extension": ".py",
   "mimetype": "text/x-python",
   "name": "python",
   "nbconvert_exporter": "python",
   "pygments_lexer": "ipython3",
   "version": "3.11.9"
  }
 },
 "nbformat": 4,
 "nbformat_minor": 5
}

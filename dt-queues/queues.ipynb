{
 "cells": [
  {
   "cell_type": "markdown",
   "id": "39b63708",
   "metadata": {},
   "source": [
    "# A queue is a FIFO structure - first in, first out. It is an abstract data type.\n",
    "\n",
    "I am using an array (a Python list) to implement a queue.\n",
    "\n",
    "We can also use linked lists to implement queues.\n",
    "\n",
    "Examples\n",
    "\n",
    "1) Queues are useful when a resource is shared with several consumers. Threads are stored in queues.\n",
    "2) Queues are important in CPU scheduling, when data is transferred asynchronously (data not necessarily received at same rate as sent) between two processes.\n",
    "3) Graph algorithms rely heavily on queues: breadth-first-search use queue as an underlying abstract data type.\n",
    "\n",
    "\n"
   ]
  },
  {
   "cell_type": "code",
   "execution_count": null,
   "id": "444a2cc0",
   "metadata": {},
   "outputs": [],
   "source": [
    "class Queue:\n",
    "\n",
    "    def __init__(self):\n",
    "\n",
    "        self.queue = []\n",
    "\n",
    "    # O(1) running time complexity\n",
    "    def enqueue(self,\n",
    "                data):\n",
    "        self.queue.append(data)\n",
    "\n",
    "    # O(N) linear time complexity. # We can use doubly linked lists to get O(1) time complexity for dequeue operation.\n",
    "    def dequeue(self):\n",
    "        data = self.queue[0]\n",
    "        del self.queue[0]\n",
    "\n",
    "        return data\n",
    "    \n",
    "    # O(1) running time\n",
    "    def is_empty(self):\n",
    "        return self.queue == []\n",
    "    \n",
    "    # View the element on the first position\n",
    "    def peek(self):\n",
    "        return self.queue[0]\n",
    "    \n",
    "    # Check the size // O(1) time complexity\n",
    "    def size_queue(self):\n",
    "        return len(self.queue)\n"
   ]
  },
  {
   "cell_type": "code",
   "execution_count": 4,
   "id": "57842a14",
   "metadata": {},
   "outputs": [
    {
     "name": "stdout",
     "output_type": "stream",
     "text": [
      "2\n",
      "False\n",
      "4\n",
      "5\n",
      "3\n"
     ]
    }
   ],
   "source": [
    "# Create an object of the Queue class\n",
    "queue = Queue()\n",
    "\n",
    "# Perform operations\n",
    "queue.enqueue(2)\n",
    "queue.enqueue(5)\n",
    "queue.enqueue(60)\n",
    "queue.enqueue(45)\n",
    "\n",
    "print(queue.peek())\n",
    "print(queue.is_empty())\n",
    "print(queue.size_queue())\n",
    "\n",
    "queue.dequeue()\n",
    "\n",
    "print(queue.peek())\n",
    "print(queue.size_queue())"
   ]
  }
 ],
 "metadata": {
  "kernelspec": {
   "display_name": "Python 3",
   "language": "python",
   "name": "python3"
  },
  "language_info": {
   "codemirror_mode": {
    "name": "ipython",
    "version": 3
   },
   "file_extension": ".py",
   "mimetype": "text/x-python",
   "name": "python",
   "nbconvert_exporter": "python",
   "pygments_lexer": "ipython3",
   "version": "3.11.9"
  }
 },
 "nbformat": 4,
 "nbformat_minor": 5
}
